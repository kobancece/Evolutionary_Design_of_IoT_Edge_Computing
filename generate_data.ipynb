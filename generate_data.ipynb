{
 "cells": [
  {
   "cell_type": "code",
   "execution_count": 1,
   "id": "b6c93c41-c306-4ad6-b686-ac4a4b3327bb",
   "metadata": {},
   "outputs": [
    {
     "name": "stdout",
     "output_type": "stream",
     "text": [
      "Requirement already satisfied: numpy in c:\\users\\hp\\appdata\\local\\programs\\python\\python312\\lib\\site-packages (1.26.4)\n",
      "Note: you may need to restart the kernel to use updated packages.\n"
     ]
    }
   ],
   "source": [
    "pip install numpy"
   ]
  },
  {
   "cell_type": "code",
   "execution_count": 2,
   "id": "094c9bfd-3e3f-4244-81de-a5da0444deb6",
   "metadata": {},
   "outputs": [
    {
     "name": "stdout",
     "output_type": "stream",
     "text": [
      "Requirement already satisfied: numpy in c:\\users\\hp\\appdata\\local\\programs\\python\\python312\\lib\\site-packages (1.26.4)\n"
     ]
    }
   ],
   "source": [
    "!pip install numpy"
   ]
  },
  {
   "cell_type": "code",
   "execution_count": 3,
   "id": "c4ee4091-b5da-44d3-9499-73354af5ac82",
   "metadata": {},
   "outputs": [
    {
     "name": "stdout",
     "output_type": "stream",
     "text": [
      "Requirement already satisfied: pandas in c:\\users\\hp\\appdata\\local\\programs\\python\\python312\\lib\\site-packages (2.2.2)\n",
      "Requirement already satisfied: numpy>=1.26.0 in c:\\users\\hp\\appdata\\local\\programs\\python\\python312\\lib\\site-packages (from pandas) (1.26.4)\n",
      "Requirement already satisfied: python-dateutil>=2.8.2 in c:\\users\\hp\\appdata\\local\\programs\\python\\python312\\lib\\site-packages (from pandas) (2.9.0.post0)\n",
      "Requirement already satisfied: pytz>=2020.1 in c:\\users\\hp\\appdata\\local\\programs\\python\\python312\\lib\\site-packages (from pandas) (2024.1)\n",
      "Requirement already satisfied: tzdata>=2022.7 in c:\\users\\hp\\appdata\\local\\programs\\python\\python312\\lib\\site-packages (from pandas) (2024.1)\n",
      "Requirement already satisfied: six>=1.5 in c:\\users\\hp\\appdata\\local\\programs\\python\\python312\\lib\\site-packages (from python-dateutil>=2.8.2->pandas) (1.16.0)\n",
      "Note: you may need to restart the kernel to use updated packages.\n"
     ]
    }
   ],
   "source": [
    "pip install pandas"
   ]
  },
  {
   "cell_type": "code",
   "execution_count": 4,
   "id": "bbcc71a7-fdde-4db1-a3b1-40f2ee51fb40",
   "metadata": {},
   "outputs": [],
   "source": [
    "import numpy as np\n",
    "import pandas as pd\n",
    "from datetime import datetime, timedelta\n",
    "import sys\n",
    "import subprocess"
   ]
  },
  {
   "cell_type": "code",
   "execution_count": 5,
   "id": "b9992614-2f98-4461-bc6e-0ad140748978",
   "metadata": {},
   "outputs": [
    {
     "name": "stdout",
     "output_type": "stream",
     "text": [
      "Data generation complete. Files saved as 'edge_device_data.csv'.\n"
     ]
    }
   ],
   "source": [
    "def install(package):\n",
    "    subprocess.check_call([sys.executable, \"-m\", \"pip\", \"install\", package])\n",
    "try:\n",
    "    import pandas as pd\n",
    "except ImportError:\n",
    "    install(\"pandas\")\n",
    "    import pandas as pd\n",
    "\n",
    "import numpy as np\n",
    "from datetime import datetime, timedelta\n",
    "\n",
    "# Function to generate synthetic edge device data\n",
    "def generate_edge_data(num_edge_devices, start_time, num_records, frequency):\n",
    "    data = []\n",
    "    for edge_id in range(1, num_edge_devices + 1):\n",
    "        current_time = start_time\n",
    "        for _ in range(num_records):\n",
    "            cpu_usage = np.random.uniform(50, 90)\n",
    "            memory_usage = np.random.uniform(1000, 2000)\n",
    "            energy_consumption = np.random.uniform(1.0, 5.0)  # Energy consumption in Wh\n",
    "            latency = np.random.uniform(10, 50)\n",
    "            task_count = np.random.randint(10, 30)\n",
    "            queue_length = np.random.randint(1, 10)\n",
    "            data.append([current_time, f'Edge_{edge_id}', cpu_usage, memory_usage, energy_consumption, latency, task_count, queue_length])\n",
    "            current_time += timedelta(seconds=frequency)\n",
    "    return pd.DataFrame(data, columns=['Timestamp', 'Edge Device ID', 'CPU Usage (%)', 'Memory Usage (MB)', 'Energy Consumption (Wh)', 'Latency (ms)', 'Task Count', 'Queue Length'])\n",
    "\n",
    "# Generate synthetic data\n",
    "start_time = datetime(2024, 5, 16, 10, 0, 0)\n",
    "edge_data = generate_edge_data(num_edge_devices=3, start_time=start_time, num_records=100, frequency=60)\n",
    "\n",
    "# Save to CSV\n",
    "edge_data.to_csv('edge_device_data.csv', index=False)\n",
    "\n",
    "print(\"Data generation complete. Files saved as 'edge_device_data.csv'.\")"
   ]
  }
 ],
 "metadata": {
  "kernelspec": {
   "display_name": "Python 3 (ipykernel)",
   "language": "python",
   "name": "python3"
  },
  "language_info": {
   "codemirror_mode": {
    "name": "ipython",
    "version": 3
   },
   "file_extension": ".py",
   "mimetype": "text/x-python",
   "name": "python",
   "nbconvert_exporter": "python",
   "pygments_lexer": "ipython3",
   "version": "3.12.3"
  }
 },
 "nbformat": 4,
 "nbformat_minor": 5
}
